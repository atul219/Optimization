{
 "cells": [
  {
   "cell_type": "code",
   "execution_count": 1,
   "metadata": {},
   "outputs": [],
   "source": [
    "import numpy as np"
   ]
  },
  {
   "cell_type": "code",
   "execution_count": 2,
   "metadata": {},
   "outputs": [
    {
     "name": "stdout",
     "output_type": "stream",
     "text": [
      "[[0.23982647 0.72554858 0.99340825 ... 0.89970994 0.40546186 0.49469693]\n",
      " [0.64582292 0.43708172 0.53949405 ... 0.30547971 0.79224434 0.82615147]\n",
      " [0.7841347  0.29227642 0.02734837 ... 0.6267976  0.46990662 0.6775877 ]\n",
      " ...\n",
      " [0.95112235 0.79986696 0.12841113 ... 0.19159682 0.52222117 0.27790603]\n",
      " [0.66488943 0.1335997  0.62634616 ... 0.29360497 0.51169705 0.04644897]\n",
      " [0.88061788 0.64495053 0.89270978 ... 0.60473647 0.00936773 0.227172  ]]\n"
     ]
    }
   ],
   "source": [
    "# generate random data\n",
    "\n",
    "data = np.random.random((40,1000))\n",
    "print(data)"
   ]
  },
  {
   "cell_type": "code",
   "execution_count": 3,
   "metadata": {},
   "outputs": [],
   "source": [
    "# normalise the data\n",
    "rows,col = np.shape(data)\n",
    "norm_data = np.zeros(np.shape(data))\n",
    "for i in range(col):\n",
    "    norm_data[:,i] = (data[:,i] - min(data[:,i])/max(data[:,i]) - min(data[:,i]))"
   ]
  },
  {
   "cell_type": "code",
   "execution_count": 4,
   "metadata": {},
   "outputs": [
    {
     "name": "stdout",
     "output_type": "stream",
     "text": [
      "[[ 0.21056853  0.49544241  0.93853005 ...  0.89342449  0.39478124\n",
      "   0.47608976]\n",
      " [ 0.61656498  0.20697555  0.48461585 ...  0.29919426  0.78156371\n",
      "   0.8075443 ]\n",
      " [ 0.75487676  0.06217025 -0.02752984 ...  0.62051215  0.459226\n",
      "   0.65898054]\n",
      " ...\n",
      " [ 0.92186441  0.56976079  0.07353293 ...  0.18531137  0.51154055\n",
      "   0.25929886]\n",
      " [ 0.63563149 -0.09650647  0.57146796 ...  0.28731952  0.50101642\n",
      "   0.0278418 ]\n",
      " [ 0.85135994  0.41484435  0.83783158 ...  0.59845101 -0.00131289\n",
      "   0.20856483]]\n"
     ]
    }
   ],
   "source": [
    "print(norm_data)"
   ]
  },
  {
   "cell_type": "code",
   "execution_count": 5,
   "metadata": {},
   "outputs": [],
   "source": [
    "# calculating covariance matrix of normalise data\n",
    "cov_data = np.zeros(np.shape(data))\n",
    "cov_data = np.cov(norm_data)"
   ]
  },
  {
   "cell_type": "code",
   "execution_count": 6,
   "metadata": {},
   "outputs": [
    {
     "name": "stdout",
     "output_type": "stream",
     "text": [
      "[[ 0.08270586  0.00619368 -0.00031765 ...  0.00225395  0.00137492\n",
      "   0.00735328]\n",
      " [ 0.00619368  0.08652575  0.00213109 ... -0.0005968  -0.00210441\n",
      "   0.00278341]\n",
      " [-0.00031765  0.00213109  0.07861613 ... -0.00027637  0.00034227\n",
      "   0.00014626]\n",
      " ...\n",
      " [ 0.00225395 -0.0005968  -0.00027637 ...  0.08421009  0.00093299\n",
      "   0.00198816]\n",
      " [ 0.00137492 -0.00210441  0.00034227 ...  0.00093299  0.08020031\n",
      "   0.00382505]\n",
      " [ 0.00735328  0.00278341  0.00014626 ...  0.00198816  0.00382505\n",
      "   0.08893436]]\n"
     ]
    }
   ],
   "source": [
    "print(cov_data)"
   ]
  },
  {
   "cell_type": "code",
   "execution_count": 7,
   "metadata": {},
   "outputs": [],
   "source": [
    "# calculating eigen values and eigen vectors\n",
    "eigen_val,eigen_vec = np.linalg.eig(cov_data)"
   ]
  },
  {
   "cell_type": "code",
   "execution_count": 8,
   "metadata": {},
   "outputs": [],
   "source": [
    "# sorting eigen values and eigen vectors in descending order\n",
    "index_eigval = np.argsort(eigen_val)"
   ]
  },
  {
   "cell_type": "code",
   "execution_count": 9,
   "metadata": {},
   "outputs": [],
   "source": [
    "# sorted eigen values and eigen vectors \n",
    "\n",
    "# size of sorted eigen values and vectors equal to eigen values and vectors\n",
    "sorted_eigval = np.zeros(np.shape(eigen_val))\n",
    "sorted_eigvec = np.zeros(np.shape(eigen_vec))\n",
    "\n",
    "# loop to length of index values of eigen values\n",
    "for i in range(len(index_eigval)):\n",
    "    \n",
    "    sorted_eigval[len(index_eigval)-i-1] = eigen_val[index_eigval[i]]\n",
    "    sorted_eigvec[:,len(index_eigval)-i-1] = eigen_vec[:,index_eigval[i]]"
   ]
  },
  {
   "cell_type": "code",
   "execution_count": 10,
   "metadata": {},
   "outputs": [],
   "source": [
    "# to find cummulative weight of data \n",
    "cummulative_weight = np.zeros([len(index_eigval)])\n",
    "count = 0\n",
    "for i in range(len(index_eigval)):\n",
    "    cummulative_weight[i] = (sorted_eigval[i] + count)/ np.sum(sorted_eigval)\n",
    "    count = count + sorted_eigval[i]"
   ]
  },
  {
   "cell_type": "code",
   "execution_count": 11,
   "metadata": {},
   "outputs": [],
   "source": [
    "# To check how much data we need to save \n",
    "var = 0.9\n",
    "values = np.where(cummulative_weight >= 0.9)\n",
    "values = values[0]\n",
    "values= values[0]\n",
    "\n",
    "selected_eigvec = sorted_eigvec[:,0:values+1]\n",
    "mul_mat = selected_eigvec.transpose()"
   ]
  },
  {
   "cell_type": "code",
   "execution_count": 12,
   "metadata": {},
   "outputs": [],
   "source": [
    "# to convert new data to reduced variable\n",
    "new_data = np.matmul(mul_mat, data)"
   ]
  },
  {
   "cell_type": "code",
   "execution_count": 13,
   "metadata": {},
   "outputs": [
    {
     "ename": "TypeError",
     "evalue": "'tuple' object is not callable",
     "output_type": "error",
     "traceback": [
      "\u001b[1;31m---------------------------------------------------------------------------\u001b[0m",
      "\u001b[1;31mTypeError\u001b[0m                                 Traceback (most recent call last)",
      "\u001b[1;32m<ipython-input-13-667013674c2e>\u001b[0m in \u001b[0;36m<module>\u001b[1;34m()\u001b[0m\n\u001b[1;32m----> 1\u001b[1;33m \u001b[0mnew_data\u001b[0m\u001b[1;33m.\u001b[0m\u001b[0mshape\u001b[0m\u001b[1;33m(\u001b[0m\u001b[1;33m)\u001b[0m\u001b[1;33m\u001b[0m\u001b[0m\n\u001b[0m",
      "\u001b[1;31mTypeError\u001b[0m: 'tuple' object is not callable"
     ]
    }
   ],
   "source": [
    "new_data.shape()"
   ]
  },
  {
   "cell_type": "code",
   "execution_count": null,
   "metadata": {},
   "outputs": [],
   "source": []
  }
 ],
 "metadata": {
  "kernelspec": {
   "display_name": "Python 3",
   "language": "python",
   "name": "python3"
  },
  "language_info": {
   "codemirror_mode": {
    "name": "ipython",
    "version": 3
   },
   "file_extension": ".py",
   "mimetype": "text/x-python",
   "name": "python",
   "nbconvert_exporter": "python",
   "pygments_lexer": "ipython3",
   "version": "3.6.5"
  }
 },
 "nbformat": 4,
 "nbformat_minor": 2
}
